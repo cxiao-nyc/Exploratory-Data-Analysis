{
 "cells": [
  {
   "cell_type": "markdown",
   "id": "a118c9bd-def5-40f7-94f8-2aff8e34fec5",
   "metadata": {},
   "source": [
    "# Exploring MTA Ridership and Median Property Value in New York City during COVID-19 Pandemic"
   ]
  },
  {
   "cell_type": "markdown",
   "id": "fe82b09f-f809-4d55-9999-c95a905022e5",
   "metadata": {},
   "source": [
    "Connie Xiao"
   ]
  },
  {
   "cell_type": "markdown",
   "id": "2712f6e9-119a-49f4-bdec-412d17d72a6a",
   "metadata": {},
   "source": [
    "## Abstract\n"
   ]
  },
  {
   "cell_type": "markdown",
   "id": "09c608bb-35fa-43c9-9739-b47ff828b932",
   "metadata": {},
   "source": [
    "For this project, my goal was to see the impact of COVID-19 Pandemic on New York City's MTA ridership. The main chunk of this project will be exploring ridership levels pre-COVID and during COVID. I will also be taking New York City's neighborhood's property value status into consideration to see how it certain neighborhoods affected ridership levels. After cleaning my data, I wanted to see the connection between the ridership activities in with median property values. To do so, I built graphs and plots to analyze my findings. "
   ]
  },
  {
   "cell_type": "markdown",
   "id": "04194652-29c3-43d4-939c-91a6f5159d73",
   "metadata": {},
   "source": [
    "## Design"
   ]
  },
  {
   "cell_type": "markdown",
   "id": "00e412d6-a5b6-4b83-9413-d9e01c2b518c",
   "metadata": {},
   "source": [
    "A committee of legislatives wants to give back to New York City's community after the pandemic. New Yorkers went through a big hump during these difficult times and they wanted to create more jobs for communities that did not have the privilege to work from home. They were interested in D line locations where the residents were still going into work during the pandemic.  \n",
    "\n",
    "To tackle this project, I used [MTA turnstiles](http://web.mta.info/developers/turnstile.html) dataset to see which stations that had the least change in ridership activities. To explore more into the changes, I measured affluency by looking at each [neighborhoods](https://streeteasy.com/blog/data-dashboard/) median property values. I wanted to see if more affluent neighborhoods had a more dramatic decrease in ridership levels compared to less affluent neighborhoods.  I also wanted to explore the changes for each individual station. \n"
   ]
  },
  {
   "cell_type": "markdown",
   "id": "5cc41c03-5223-4bef-aa17-c927ba500983",
   "metadata": {},
   "source": [
    "## Data"
   ]
  },
  {
   "cell_type": "markdown",
   "id": "3b4c0f3d-3d02-455c-9780-8adccf2f38b6",
   "metadata": {},
   "source": [
    "The MTA dataset contains 585,842 row for each turnstiles 4 hours apart. Each turnstile showed up about 6 times for each day. The data provides weekly updates for each turnstiles in the system. Each turnstile was identified by an unique combo of `C/A`, `UNIT`, `SCP`, `STATION`. After querying my median property value data, it contains 18 data points with 7 columns. \n",
    "I also imported longitude and latitude locations for station entrances for the purpose of visualizations."
   ]
  },
  {
   "cell_type": "markdown",
   "id": "f2707085-cede-4326-a61f-1100d4aa74ac",
   "metadata": {},
   "source": [
    "## Alogorithms "
   ]
  },
  {
   "cell_type": "markdown",
   "id": "07edb934-565d-49b8-98e7-02bd83e542ea",
   "metadata": {},
   "source": [
    "1. Taking the average median property values from the January 2020 to June 2020.\n",
    "2. Splitting data set into two time periods.\n",
    "3. Averaging the weekly number of entries for each station.\n",
    "\n",
    "Averaged the weekly number of entries for each station, then find the percentage change for each individual station pre-covid and present covid. This helped exam each station more closely to see if there were any outliers or anything\n",
    "unusual on this line. To look at the bigger picture, I added up all the weekly entries for all stations, for each respective time period and found the percent decrease. To observe the relationship of ridership\n",
    "with neighborhoods, I mapped the station's neighborhood to the average median property. A map of New York City is shown with it's respective stations plotted to understand how location affected ridership levels.\n",
    "\n",
    "#### Findings:\n",
    "- The D line had a decrease of 89% ridership collectively.\n",
    "- The biggest decrease in ridership was in SoHo, Manhattan and it's average median value was about 2.5 million.\n",
    "- The smallest decrease in ridership was in Coney Island, Brooklyn and it's average median value was about 430 thousand.\n",
    "- Manhattan had the largest difference in average weekly ridership."
   ]
  },
  {
   "cell_type": "markdown",
   "id": "0a2050a6-fd9f-4a78-a599-ea13aafe2edb",
   "metadata": {},
   "source": [
    "## Tools"
   ]
  },
  {
   "cell_type": "markdown",
   "id": "375b8f45-5ce5-428e-bc7f-2c46bbedd49f",
   "metadata": {},
   "source": [
    "- SqlAlchemy for querying\n",
    "- Pandas for data manipulation\n",
    "- Matplotlib and Seaborn for plotting\n",
    "- Plotly for interactive visualizations\n",
    "- Geopandas for mapping visualizations\n"
   ]
  },
  {
   "cell_type": "markdown",
   "id": "2d3fdf19-433d-4bbe-982f-2ef109b41d38",
   "metadata": {},
   "source": [
    "## Communication\n"
   ]
  },
  {
   "cell_type": "markdown",
   "id": "a0efc9d2-f05c-4cff-903b-38b36caa02b2",
   "metadata": {},
   "source": [
    "A brief presentation slides on my exploration and analysis, and visuals.\n",
    "\n"
   ]
  }
 ],
 "metadata": {
  "kernelspec": {
   "display_name": "Python 3",
   "language": "python",
   "name": "python3"
  },
  "language_info": {
   "codemirror_mode": {
    "name": "ipython",
    "version": 3
   },
   "file_extension": ".py",
   "mimetype": "text/x-python",
   "name": "python",
   "nbconvert_exporter": "python",
   "pygments_lexer": "ipython3",
   "version": "3.8.10"
  }
 },
 "nbformat": 4,
 "nbformat_minor": 5
}
