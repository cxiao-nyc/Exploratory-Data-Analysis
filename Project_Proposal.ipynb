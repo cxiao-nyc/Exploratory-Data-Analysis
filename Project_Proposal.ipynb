{
 "cells": [
  {
   "cell_type": "markdown",
   "id": "ee2e95f8",
   "metadata": {},
   "source": [
    "## PROJECT PROPOSAL\n"
   ]
  },
  {
   "cell_type": "markdown",
   "id": "480ce79b",
   "metadata": {},
   "source": [
    "WHAT WAS THE PANDEMIC'S IMPACT ON MTA TRANSIT FOOT TRAFFIC IN NEW YORK CITY?\n",
    "\n",
    "COVID-19 impacted the every day lives of New Yorkers. To the way we eat, shop and interact with one another. New Yorkers weren't just the only ones being impacted. One of the largest transit systems in the world, the Metropolitan Transportation Authority (`MTA`) had a massive dip in passengers. I will be exploring the neighborhood's economical status and their impact on MTA ridership."
   ]
  },
  {
   "cell_type": "markdown",
   "id": "8caa599e",
   "metadata": {},
   "source": [
    "While higher-income neighborhoods worked at home, lower-income neighborhoods did not have the privilege in doing so therefore the total number of passengers for such neighborhoods shouldn't have a higher difference than higher-income neighborhoods. "
   ]
  },
  {
   "cell_type": "markdown",
   "id": "d5e32d5d",
   "metadata": {},
   "source": [
    "I will be using 6 months of data from MTA turnstiles. It will begin in the last week of December 2019 to last week of June 2020.\n",
    "I will be using another dataset that will have neighborhoods and their median household income. \n",
    "This will be completed by:\n",
    "- Sum up the number of entries and exits for each turnstiles in each stations\n",
    "- Grouping the stations into neighboorhoods\n",
    "- Calcuate the average number of passengers during December - Feb (pre-pandemic) and March - June(during pandemic), then finding the difference\n",
    "\n",
    "The Mayor of the city wants to create jobs for those who were impacted by the pandemic. Many people who were affected were in lower-income areas. Having to commute far for work during the pandemic must have been hard and the Mayor wants to give back to the community. The Mayor wants to know which neighborhoods had the most number of people using the subway to commute during the pandemic."
   ]
  },
  {
   "cell_type": "markdown",
   "id": "9db1b755",
   "metadata": {},
   "source": [
    "Tools needed for this project includes:\n",
    "- SQL for creating, retrieving and editing tables/databases\n",
    "- Pandas for manipulating and analyzing our data\n",
    "- Matplotlib/seaborn for plots and graphs\n"
   ]
  },
  {
   "cell_type": "markdown",
   "id": "1d57b013",
   "metadata": {},
   "source": []
  }
 ],
 "metadata": {
  "kernelspec": {
   "display_name": "Python 3",
   "language": "python",
   "name": "python3"
  },
  "language_info": {
   "codemirror_mode": {
    "name": "ipython",
    "version": 3
   },
   "file_extension": ".py",
   "mimetype": "text/x-python",
   "name": "python",
   "nbconvert_exporter": "python",
   "pygments_lexer": "ipython3",
   "version": "3.8.8"
  }
 },
 "nbformat": 4,
 "nbformat_minor": 5
}
